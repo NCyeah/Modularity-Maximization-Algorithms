{
 "cells": [
  {
   "cell_type": "code",
   "execution_count": 2,
   "id": "eb2ca713",
   "metadata": {},
   "outputs": [],
   "source": [
    "import networkx as nx\n",
    "import numpy as np\n",
    "import igraph as ig\n",
    "import matplotlib.pyplot as plt\n",
    "import time\n",
    "import networkx.algorithms.community as nx_comm"
   ]
  },
  {
   "cell_type": "code",
   "execution_count": 3,
   "id": "9df41488",
   "metadata": {},
   "outputs": [],
   "source": [
    "#Generating synthetic networks based on Lancichinetti-Fortunato-Radicchi (LFR) benchmarks\n",
    "from networkx.generators.community import LFR_benchmark_graph\n",
    "n = 200\n",
    "tau1 = 3\n",
    "tau2 = 1.5\n",
    "mu = 0.1\n",
    "LFR = LFR_benchmark_graph(n, tau1, tau2, mu, average_degree=5, min_community=20, seed=9)\n",
    "# nx.draw_spring(LFR)"
   ]
  },
  {
   "cell_type": "code",
   "execution_count": 4,
   "id": "94642e01",
   "metadata": {},
   "outputs": [
    {
     "name": "stdout",
     "output_type": "stream",
     "text": [
      "\t\t      Louvian Algorithm \n",
      "Modularity: 0.842009 \t\t\t RunTime: 0.033950\n",
      "----------------------------------------------------------------------\n"
     ]
    }
   ],
   "source": [
    "# Louvian Algorithm\n",
    "from community import community_louvain\n",
    "start_time =  time.time()\n",
    "G = LFR\n",
    "Louvian_Partition = community_louvain.best_partition(LFR)\n",
    "finish_time = time.time()\n",
    "Louvian_Modularity = community_louvain.modularity(Louvian_Partition, LFR)\n",
    "Louvian_Algorithm_Runtime = finish_time - start_time\n",
    "print('\\t\\t      Louvian Algorithm \\nModularity: %f \\t\\t\\t RunTime: %f\\n%s'%\n",
    "     (Louvian_Modularity,Louvian_Algorithm_Runtime,70*'-'))\n"
   ]
  },
  {
   "cell_type": "code",
   "execution_count": 6,
   "id": "bf7bcbfe",
   "metadata": {},
   "outputs": [
    {
     "name": "stdout",
     "output_type": "stream",
     "text": [
      "\t\t\tCNM Algorithm \n",
      "Modularity: 0.841859 \t\t\t RunTime: 0.052348\n",
      "----------------------------------------------------------------------\n"
     ]
    }
   ],
   "source": [
    "# Clauset-Newman-Moore Algorithm\n",
    "from networkx.algorithms.community import greedy_modularity_communities\n",
    "start_time =  time.time()\n",
    "G = LFR\n",
    "CNM_Partition = greedy_modularity_communities(G)\n",
    "finish_time = time.time()\n",
    "CNM_Modularity = nx_comm.modularity(G, CNM_Partition)\n",
    "CNM_Algorithm_RunTime = finish_time - start_time\n",
    "# nx.draw_spring(CNM_Partition)\n",
    "print('\\t\\t\\tCNM Algorithm \\nModularity: %f \\t\\t\\t RunTime: %f\\n%s'%\n",
    "     (CNM_Modularity,CNM_Algorithm_RunTime,70*'-'))"
   ]
  },
  {
   "cell_type": "code",
   "execution_count": 15,
   "id": "2f9fb4d1",
   "metadata": {},
   "outputs": [
    {
     "name": "stdout",
     "output_type": "stream",
     "text": [
      "\t\t     Leidenalg Algorithm \n",
      "Modularity: 0.842009 \t\t\t RunTime: 0.004454\n",
      "----------------------------------------------------------------------\n"
     ]
    }
   ],
   "source": [
    "# Leidenalg Algorithm\n",
    "import leidenalg as la\n",
    "start_time =  time.time()\n",
    "G = ig.Graph.from_networkx(LFR)\n",
    "Leidenalg_Partition = la.find_partition(G, la.ModularityVertexPartition)\n",
    "Leidenalg_Modularity = G.modularity(Leidenalg_Partition)\n",
    "finish_time = time.time()\n",
    "Leidenalg_Algorithm_RunTime = finish_time - start_time\n",
    "print('\\t\\t     Leidenalg Algorithm \\nModularity: %f \\t\\t\\t RunTime: %f\\n%s'%\n",
    "     (Leidenalg_Modularity,Leidenalg_Algorithm_RunTime,70*'-'))"
   ]
  },
  {
   "cell_type": "code",
   "execution_count": 18,
   "id": "cbcfbadf",
   "metadata": {},
   "outputs": [
    {
     "name": "stdout",
     "output_type": "stream",
     "text": [
      "\t\t    Eigenvector Algorithm \n",
      "Modularity: 0.749610 \t\t\t RunTime: 0.066309\n",
      "----------------------------------------------------------------------\n"
     ]
    }
   ],
   "source": [
    "# Newman Eigenvector Algorithm\n",
    "start_time =  time.time()\n",
    "G = ig.Graph.from_networkx(LFR)\n",
    "Eigenvector_Partition = G.community_leading_eigenvector()\n",
    "Eigenvector_Modularity = G.modularity(Eigenvector_Partition)\n",
    "finish_time = time.time()\n",
    "Eigenvector_Algorithm_RunTime = finish_time - start_time\n",
    "print('\\t\\t    Eigenvector Algorithm \\nModularity: %f \\t\\t\\t RunTime: %f\\n%s'%\n",
    "     (Eigenvector_Modularity,Eigenvector_Algorithm_RunTime,70*'-'))"
   ]
  },
  {
   "cell_type": "code",
   "execution_count": 30,
   "id": "d08bbf6d",
   "metadata": {},
   "outputs": [
    {
     "name": "stdout",
     "output_type": "stream",
     "text": [
      "\t\t  Optimal_Modularity Algorithm \n",
      "Modularity: 0.842009 \t\t\t RunTime: 861.834231\n",
      "----------------------------------------------------------------------\n"
     ]
    }
   ],
   "source": [
    "# Optimal Modularity Algorithm\n",
    "start_time =  time.time()\n",
    "G = ig.Graph.from_networkx(LFR)\n",
    "Optimal_Partition = G.community_optimal_modularity()\n",
    "Optimal_Modularity = G.modularity(Optimal_Partition)\n",
    "finish_time = time.time()\n",
    "Optimal_Modularity_Algorithm_RunTime = finish_time - start_time\n",
    "print('\\t\\t  Optimal_Modularity Algorithm \\nModularity: %f \\t\\t\\t RunTime: %f\\n%s'%\n",
    "     (Optimal_Modularity, Optimal_Modularity_Algorithm_RunTime,70*'-'))"
   ]
  },
  {
   "cell_type": "code",
   "execution_count": null,
   "id": "f70f850f",
   "metadata": {},
   "outputs": [],
   "source": []
  }
 ],
 "metadata": {
  "kernelspec": {
   "display_name": "Python 3 (ipykernel)",
   "language": "python",
   "name": "python3"
  },
  "language_info": {
   "codemirror_mode": {
    "name": "ipython",
    "version": 3
   },
   "file_extension": ".py",
   "mimetype": "text/x-python",
   "name": "python",
   "nbconvert_exporter": "python",
   "pygments_lexer": "ipython3",
   "version": "3.9.5"
  }
 },
 "nbformat": 4,
 "nbformat_minor": 5
}
